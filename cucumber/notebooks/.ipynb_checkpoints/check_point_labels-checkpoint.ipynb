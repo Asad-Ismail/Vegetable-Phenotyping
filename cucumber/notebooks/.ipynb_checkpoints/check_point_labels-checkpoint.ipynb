{
 "cells": [
  {
   "cell_type": "code",
   "execution_count": 1,
   "id": "ade475c7",
   "metadata": {},
   "outputs": [],
   "source": [
    "def load_class_dataset(f_p,label_name=[\"rating\",\"neck\"]):\n",
    "    \"\"\"load keypoints(head/tail)from the text file\n",
    "    Args:\n",
    "        f_p ([str]): File path containing the head and tail points (x,y) of each fruit in the image. Each Image can have multiple fruits\n",
    "\n",
    "    Returns:\n",
    "        [dict]: Dictionary of file names as keys and corresponding fruit points as values\n",
    "    \"\"\"\n",
    "    with open(f_p, \"r\") as f:\n",
    "        all_lines = f.readlines()\n",
    "    points = {}\n",
    "    i = 0\n",
    "    while i < len(all_lines):\n",
    "        if i > len(all_lines):\n",
    "            break\n",
    "        line = all_lines[i].split(\",\")\n",
    "        label = line[0]\n",
    "        splitted_labels=label.split(\"_\")\n",
    "        file = line[3]\n",
    "        print(file)\n",
    "        coords= None\n",
    "        if splitted_labels[0] in label_name:\n",
    "            coords = (int(line[1]), int(line[2]))\n",
    "        i += 1\n",
    "        if coords is None:\n",
    "            continue\n",
    "        if file in points:\n",
    "            # file already in dictionary append the list\n",
    "            # print(f\"Appending the file to existing one {file}\")\n",
    "            if splitted_labels[0] in points[file]:\n",
    "                points[file][splitted_labels[0]].append([coords,int(splitted_labels[1])])\n",
    "            else:\n",
    "                points[file][splitted_labels[0]]=[[coords,int(splitted_labels[1])]]\n",
    "        else:\n",
    "            points[file]={splitted_labels[0]:[[coords, int(splitted_labels[1])]]}\n",
    "    return points"
   ]
  },
  {
   "cell_type": "code",
   "execution_count": null,
   "id": "5887fd4b",
   "metadata": {},
   "outputs": [],
   "source": []
  }
 ],
 "metadata": {
  "kernelspec": {
   "display_name": "Python 3",
   "language": "python",
   "name": "python3"
  },
  "language_info": {
   "codemirror_mode": {
    "name": "ipython",
    "version": 3
   },
   "file_extension": ".py",
   "mimetype": "text/x-python",
   "name": "python",
   "nbconvert_exporter": "python",
   "pygments_lexer": "ipython3",
   "version": "3.6.13"
  }
 },
 "nbformat": 4,
 "nbformat_minor": 5
}
