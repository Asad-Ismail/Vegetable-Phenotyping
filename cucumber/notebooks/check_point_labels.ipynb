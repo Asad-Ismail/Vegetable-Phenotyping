{
 "cells": [
  {
   "cell_type": "code",
   "execution_count": 14,
   "id": "4c6eb7bd",
   "metadata": {},
   "outputs": [],
   "source": [
    "import cv2\n",
    "import os"
   ]
  },
  {
   "cell_type": "code",
   "execution_count": 11,
   "id": "fa181a9d",
   "metadata": {},
   "outputs": [],
   "source": [
    "def load_class_dataset(f_p,label_name=[\"c\",\"n\"]):\n",
    "    \"\"\"load keypoints(head/tail)from the text file\n",
    "    Args:\n",
    "        f_p ([str]): File path containing the head and tail points (x,y) of each fruit in the image. Each Image can have multiple fruits\n",
    "\n",
    "    Returns:\n",
    "        [dict]: Dictionary of file names as keys and corresponding fruit points as values\n",
    "    \"\"\"\n",
    "    with open(f_p, \"r\") as f:\n",
    "        all_lines = f.readlines()\n",
    "    points = {}\n",
    "    i = 0\n",
    "    while i < len(all_lines):\n",
    "        if i > len(all_lines):\n",
    "            break\n",
    "        line = all_lines[i].split(\",\")\n",
    "        label = line[0]\n",
    "        splitted_labels=label.split(\"_\")\n",
    "        file = line[3]\n",
    "        #print(f\"Image name is {file}\")\n",
    "        #print(f\"Label is  {splitted_labels[0]}\")\n",
    "        coords= None\n",
    "        if splitted_labels[0] in label_name:\n",
    "            coords = (int(line[1]), int(line[2]))\n",
    "        i += 1\n",
    "        if coords is None:\n",
    "            continue\n",
    "        if file in points:\n",
    "            # file already in dictionary append the list\n",
    "            # print(f\"Appending the file to existing one {file}\")\n",
    "            if splitted_labels[0] in points[file]:\n",
    "                points[file][splitted_labels[0]].append([coords,int(splitted_labels[1])])\n",
    "            else:\n",
    "                points[file][splitted_labels[0]]=[[coords,int(splitted_labels[1])]]\n",
    "        else:\n",
    "            points[file]={splitted_labels[0]:[[coords, int(splitted_labels[1])]]}\n",
    "    return points"
   ]
  },
  {
   "cell_type": "code",
   "execution_count": 22,
   "id": "a942722f",
   "metadata": {},
   "outputs": [],
   "source": [
    "def write_text(image,text,point=(0,0),color=(255,0,0)):\n",
    "    # font\n",
    "    font = cv2.FONT_HERSHEY_SIMPLEX\n",
    "\n",
    "    # fontScale\n",
    "    fontScale = 2\n",
    "\n",
    "    # Line thickness of 2 px\n",
    "    thickness = 3\n",
    "\n",
    "    # Using cv2.putText() method\n",
    "    image = cv2.putText(image, text, point, font, \n",
    "                    fontScale, color, thickness, cv2.LINE_AA)\n",
    "    return image"
   ]
  },
  {
   "cell_type": "code",
   "execution_count": 23,
   "id": "ee0f28f7",
   "metadata": {},
   "outputs": [],
   "source": [
    "label_file=\"/media/asad/adas_cv_2/labels_my-project-name_2021-12-20-11-06-57.csv\"\n",
    "image_dir=\"/media/asad/adas_cv_2/v28/V28_221\"\n",
    "label_name=[\"c\",\"n\"]"
   ]
  },
  {
   "cell_type": "code",
   "execution_count": 26,
   "id": "56e64a9d",
   "metadata": {},
   "outputs": [],
   "source": [
    "points=load_class_dataset(label_file,label_name)\n"
   ]
  },
  {
   "cell_type": "code",
   "execution_count": 27,
   "id": "80a3c91f",
   "metadata": {},
   "outputs": [],
   "source": [
    "colors=[(0,0,255),(122,0,255)]\n",
    "for k in points.keys():\n",
    "    img_f=os.path.join(image_dir,k)\n",
    "    img=cv2.imread(img_f)\n",
    "    if img is None:\n",
    "        print(f\"Image could not be loaded\")\n",
    "        break\n",
    "    for j,kl in enumerate(points[k].keys()):\n",
    "        for p in points[k][kl]:\n",
    "            text=f\"{kl}: {p[1]}\"\n",
    "            write_text(img,text,point=p[0],color=colors[j])\n",
    "    cv2.imwrite(k,img)"
   ]
  },
  {
   "cell_type": "code",
   "execution_count": null,
   "id": "ac5dbf7d",
   "metadata": {},
   "outputs": [],
   "source": []
  }
 ],
 "metadata": {
  "kernelspec": {
   "display_name": "Python 3",
   "language": "python",
   "name": "python3"
  },
  "language_info": {
   "codemirror_mode": {
    "name": "ipython",
    "version": 3
   },
   "file_extension": ".py",
   "mimetype": "text/x-python",
   "name": "python",
   "nbconvert_exporter": "python",
   "pygments_lexer": "ipython3",
   "version": "3.6.13"
  }
 },
 "nbformat": 4,
 "nbformat_minor": 5
}
